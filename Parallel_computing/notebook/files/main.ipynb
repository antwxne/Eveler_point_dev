{
 "cells": [
  {
   "attachments": {},
   "cell_type": "markdown",
   "id": "ba6c7a59-943d-4863-85b6-0dce4c0e27f5",
   "metadata": {},
   "source": [
    "# [Parallel computing](https://en.wikipedia.org/wiki/Parallel_computing)\n",
    "\n",
    "## Définitions\n",
    "\n",
    "### Processus\n",
    "\n",
    "*Fork*\n",
    "\n",
    "### Thread\n",
    "\n",
    "## Parallelisation des calculs\n",
    "\n",
    "## Répartition des taches\n",
    "\n",
    "https://docs.python.org/3.11/library/concurrent.futures.html#threadpoolexecutor\n",
    "\n",
    "## Pour aller plus loin\n",
    "\n",
    "### Programmation GPU\n",
    "\n",
    "### Mojo"
   ]
  },
  {
   "cell_type": "code",
   "execution_count": 1,
   "id": "cb142ef3-2ba7-47fe-9508-b3dd5605f542",
   "metadata": {},
   "outputs": [],
   "source": [
    "import os\n",
    "\n",
    "API_URL: str = os.getenv(\"API_URL\")"
   ]
  },
  {
   "cell_type": "code",
   "execution_count": 2,
   "id": "14a32e11-4f4f-4c84-80fa-9542f29cf6d2",
   "metadata": {},
   "outputs": [
    {
     "data": {
      "text/plain": [
       "{'meter_id': 1, 'consommation': 1580, 'unit': 'W'}"
      ]
     },
     "execution_count": 2,
     "metadata": {},
     "output_type": "execute_result"
    }
   ],
   "source": [
    "import requests\n",
    "\n",
    "r = requests.get(f\"{API_URL}/meter/1/conso\")\n",
    "r.json()"
   ]
  },
  {
   "cell_type": "code",
   "execution_count": null,
   "id": "8c8c8d81-8ee2-45b1-9c74-21d83457d03b",
   "metadata": {},
   "outputs": [],
   "source": []
  }
 ],
 "metadata": {
  "kernelspec": {
   "display_name": "Python 3 (ipykernel)",
   "language": "python",
   "name": "python3"
  },
  "language_info": {
   "codemirror_mode": {
    "name": "ipython",
    "version": 3
   },
   "file_extension": ".py",
   "mimetype": "text/x-python",
   "name": "python",
   "nbconvert_exporter": "python",
   "pygments_lexer": "ipython3",
   "version": "3.12.9"
  }
 },
 "nbformat": 4,
 "nbformat_minor": 5
}
