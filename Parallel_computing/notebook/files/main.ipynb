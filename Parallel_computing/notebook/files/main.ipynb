{
 "cells": [
  {
   "attachments": {},
   "cell_type": "markdown",
   "id": "ba6c7a59-943d-4863-85b6-0dce4c0e27f5",
   "metadata": {},
   "source": [
    "# [Parallel computing](https://en.wikipedia.org/wiki/Parallel_computing)\n",
    "\n",
    "## Définitions\n",
    "\n",
    "### Processus\n",
    "\n",
    "Un processus est une instance d'un programme en cours d'exécution. Il\n",
    "contient le code du programme, **ses données actuelles**, et son état\n",
    "d'exécution. Les processus sont indépendants et peuvent être exécutés simultanément sur différents cœurs de processeur.\n",
    "\n",
    "Exemple:\n",
    "\n",
    "* Notre système de tache\n",
    "* Les crons\n",
    "\n",
    "> Si on souhaite faire communiquer des processus, on peut utiliser des IPC (Inter Process Communication)\n",
    "> comme par exemple dans notre cas RabbitMQ\n",
    "\n",
    "### Thread\n",
    "\n",
    "Un thread est une unité plus petite d'exécution au sein d'un processus. Les\n",
    "threads partagent le **même espace mémoire et les ressources** du processus\n",
    "parent, ce qui permet une communication plus rapide et une utilisation plus efficace des ressources. Les threads sont souvent utilisés pour des tâches qui nécessitent une exécution simultanée au sein du même programme.\n",
    "\n",
    "Exemples:\n",
    "\n",
    "* Handling des requêtes HTTP\n",
    "\n",
    "![web_server_threads](../resources/web_server_threads.png)\n",
    "\n",
    "## Parallelisation des calculs\n",
    "\n",
    "![single_thread](../resources/Single_thread_execution.png)\n",
    "\n",
    "On pourrait aussi utiliser des threads pour paralléliser les calculs\n",
    "\n",
    "![multi_thread](../resources/multiple_threads.png)\n",
    "\n",
    "## Répartition des taches\n",
    "\n",
    "Lorsqu'on est amené à faire de l'IO (requête API par exemple), il peut y avoir des bloquages d'IO.\n",
    "\n",
    "Les taches n'ont pas toutes la même durée.\n",
    "\n",
    "![single_thread_task_different_time](../resources/single_thread_task_different_time.png)"
   ]
  },
  {
   "cell_type": "code",
   "execution_count": 10,
   "id": "cb142ef3-2ba7-47fe-9508-b3dd5605f542",
   "metadata": {},
   "outputs": [],
   "source": [
    "import os\n",
    "\n",
    "API_URL: str = os.getenv(\"API_URL\")"
   ]
  },
  {
   "cell_type": "code",
   "execution_count": 11,
   "id": "14a32e11-4f4f-4c84-80fa-9542f29cf6d2",
   "metadata": {},
   "outputs": [
    {
     "data": {
      "text/plain": [
       "12.410677433013916"
      ]
     },
     "execution_count": 11,
     "metadata": {},
     "output_type": "execute_result"
    }
   ],
   "source": [
    "import requests\n",
    "from time import time\n",
    "from typing import List\n",
    "\n",
    "start_time: time = time()\n",
    "for meter_id in range(200):\n",
    "    r = requests.get(f\"{API_URL}/meter/{meter_id}/conso\")\n",
    "end_time: time = time()\n",
    "single_thread_total_time = end_time - start_time\n",
    "single_thread_total_time"
   ]
  },
  {
   "cell_type": "markdown",
   "id": "8099a462-c89e-4f22-aecd-cb24e0f9efda",
   "metadata": {},
   "source": [
    "Si on réparti mal les taches, on risque de se retrouver avec un thread qui ne fait rien pendant que les autres ont plus de charge de travail\n",
    "\n",
    "![multiple_threads_task_different_time](../resources/bad_task_repartition.png)\n",
    "\n",
    "Pour éviter ce genre de problèmes, on peut mettre en place une *thread pool*\n",
    "\n",
    "Dans le cas d'une thread pool, on ne réparti pas manuellement les taches entre les threads. Les threads viennent prendre une tache à faire lorsqu'ils n'ont rien à faire.\n",
    "\n",
    "![task_queue](../resources/task_queue.png)\n",
    "\n",
    "![thread_pool_1](../resources/thread_pool_1.png)\n",
    "\n",
    "![thread_pool_2](../resources/thread_pool_2.png)\n",
    "\n",
    "\n",
    "https://docs.python.org/3.11/library/concurrent.futures.html#threadpoolexecutor"
   ]
  },
  {
   "cell_type": "code",
   "execution_count": 21,
   "id": "027bb4e6-582a-40a6-9c9c-adf212c90c23",
   "metadata": {},
   "outputs": [
    {
     "data": {
      "text/plain": [
       "1.0454092025756836"
      ]
     },
     "execution_count": 21,
     "metadata": {},
     "output_type": "execute_result"
    }
   ],
   "source": [
    "from concurrent.futures import ThreadPoolExecutor, as_completed\n",
    "\n",
    "with ThreadPoolExecutor() as executor:\n",
    "    start_time: time = time()\n",
    "    future_responses = [executor.submit(requests.get, f\"{API_URL}/meter/{meter_id}/conso\") for meter_id in range(200)]\n",
    "    for _ in as_completed(future_responses):\n",
    "        pass\n",
    "    end_time: time = time()\n",
    "    thread_pool_total_time = end_time - start_time\n",
    "thread_pool_total_time"
   ]
  },
  {
   "cell_type": "code",
   "execution_count": 22,
   "id": "b3323507-9b8b-4760-b04c-847e1ed34869",
   "metadata": {},
   "outputs": [
    {
     "data": {
      "image/png": "[encoded data removed]",
      "text/plain": [
       "<Figure size 640x480 with 1 Axes>"
      ]
     },
     "metadata": {},
     "output_type": "display_data"
    }
   ],
   "source": [
    "import matplotlib.pyplot as plt\n",
    "\n",
    "_, ax = plt.subplots()\n",
    "\n",
    "ax.bar([\"1 thread\", \"Thread Pool\"], [single_thread_total_time, thread_pool_total_time])\n",
    "ax.set_ylabel(\"Temps en secondes\")\n",
    "ax.set_title(\"Temps d'execution pour 200 requetes\")\n",
    "\n",
    "plt.show()"
   ]
  },
  {
   "cell_type": "markdown",
   "id": "89c4c8ac29e71f1e",
   "metadata": {},
   "source": [
    "## Pour aller plus loin\n",
    "\n",
    "### Programmation GPU\n",
    "\n",
    "![GPU](../resources/architecture_gpu_cpu.png)\n",
    "\n",
    "Efficace pour les petites opérations a faire en simultané.\n",
    "\n",
    "Ex: calculs matriciels\n",
    "\n",
    "#### [CUDA](https://developer.nvidia.com/cuda-toolkit)\n",
    "\n",
    "```cpp\n",
    "// Kernel definition\n",
    "__global__ void VecAdd(float* A, float* B, float* C)\n",
    "{\n",
    "    int i = threadIdx.x;\n",
    "    C[i] = A[i] + B[i];\n",
    "}\n",
    "\n",
    "int main()\n",
    "{\n",
    "    ...\n",
    "    // Kernel invocation with N threads\n",
    "    VecAdd<<<1, N>>>(A, B, C);\n",
    "    ...\n",
    "}\n",
    "```\n",
    "\n",
    "#### [Lib Thrust(C++)](https://developer.nvidia.com/thrust)\n",
    "\n",
    "Pour faire court, la STL portée sur GPU\n",
    "\n",
    "> Possibilité d'expérimenter la programmation GPU avec [Google Colab](https://colab.research.google.com/)\n",
    "\n",
    "### [Mojo](https://www.modular.com/mojo)\n",
    "\n",
    "Un mix entre le python et le rust.\n",
    "\n",
    "Un langage pensé pour faire de l'IA et des calculs de matrices."
   ]
  }
 ],
 "metadata": {
  "kernelspec": {
   "display_name": "Python 3 (ipykernel)",
   "language": "python",
   "name": "python3"
  },
  "language_info": {
   "codemirror_mode": {
    "name": "ipython",
    "version": 3
   },
   "file_extension": ".py",
   "mimetype": "text/x-python",
   "name": "python",
   "nbconvert_exporter": "python",
   "pygments_lexer": "ipython3",
   "version": "3.12.10"
  }
 },
 "nbformat": 4,
 "nbformat_minor": 5
}
