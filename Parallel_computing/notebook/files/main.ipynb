{
 "cells": [
  {
   "attachments": {},
   "cell_type": "markdown",
   "id": "ba6c7a59-943d-4863-85b6-0dce4c0e27f5",
   "metadata": {},
   "source": [
    "# [Parallel computing](https://en.wikipedia.org/wiki/Parallel_computing)\n",
    "\n",
    "## Définitions\n",
    "\n",
    "### Processus\n",
    "\n",
    "Un processus est une instance d'un programme en cours d'exécution. Il\n",
    "contient le code du programme, **ses données actuelles**, et son état\n",
    "d'exécution. Les processus sont indépendants et peuvent être exécutés simultanément sur différents cœurs de processeur.\n",
    "\n",
    "Exemple:\n",
    "\n",
    "* Notre système de tache\n",
    "* Les crons\n",
    "\n",
    "> Si on souhaite faire communiquer des processus, on peut utiliser des IPC (Inter Process Communication)\n",
    "> comme par exemple dans notre cas RabbitMQ\n",
    "\n",
    "### Thread\n",
    "\n",
    "Un thread est une unité plus petite d'exécution au sein d'un processus. Les\n",
    "threads partagent le **même espace mémoire et les ressources** du processus\n",
    "parent, ce qui permet une communication plus rapide et une utilisation plus efficace des ressources. Les threads sont souvent utilisés pour des tâches qui nécessitent une exécution simultanée au sein du même programme.\n",
    "\n",
    "Exemples:\n",
    "\n",
    "* Handling des requêtes HTTP\n",
    "\n",
    "![web_server_threads](../resources/web_server_threads.png)\n",
    "\n",
    "## Parallelisation des calculs\n",
    "\n",
    "![single_thread](../resources/Single_thread_execution.png)\n",
    "\n",
    "On pourrait aussi utiliser des threads pour paralléliser les calculs\n",
    "\n",
    "![multi_thread](../resources/multiple_threads.png)\n",
    "\n"
   ]
  },
  {
   "cell_type": "code",
   "execution_count": 1,
   "id": "af700def246e2376",
   "metadata": {
    "jupyter": {
     "is_executing": true
    }
   },
   "outputs": [],
   "source": [
    "DATA_FILE_PATH = \"../resources/meters_info.csv\"\n",
    "import pandas as pd\n",
    "df: pd.DataFrame = pd.read_csv(DATA_FILE_PATH)"
   ]
  },
  {
   "cell_type": "code",
   "execution_count": 2,
   "id": "81eb8d34dd730d74",
   "metadata": {},
   "outputs": [
    {
     "name": "stdout",
     "output_type": "stream",
     "text": [
      "Time taken: 0.001027822494506836\n"
     ]
    }
   ],
   "source": [
    "from time import time\n",
    "\n",
    "start = time()\n",
    "df[\"conso\"].sum()\n",
    "end = time()\n",
    "dataframe_single_thread_time = end - start\n",
    "print(f\"Time taken: {dataframe_single_thread_time}\")"
   ]
  },
  {
   "cell_type": "markdown",
   "id": "a61b22a76b76cc20",
   "metadata": {},
   "source": [
    "## Répartition des taches\n",
    "\n",
    "https://docs.python.org/3.11/library/concurrent.futures.html#threadpoolexecutor\n",
    "\n"
   ]
  },
  {
   "cell_type": "code",
   "execution_count": 3,
   "id": "cb142ef3-2ba7-47fe-9508-b3dd5605f542",
   "metadata": {},
   "outputs": [],
   "source": [
    "import os\n",
    "\n",
    "API_URL: str = os.getenv(\"API_URL\")"
   ]
  },
  {
   "cell_type": "code",
   "execution_count": 4,
   "id": "14a32e11-4f4f-4c84-80fa-9542f29cf6d2",
   "metadata": {},
   "outputs": [
    {
     "data": {
      "text/plain": [
       "{'meter_id': 1, 'consommation': 4351, 'unit': 'W'}"
      ]
     },
     "execution_count": 4,
     "metadata": {},
     "output_type": "execute_result"
    }
   ],
   "source": [
    "import requests\n",
    "\n",
    "r = requests.get(f\"{API_URL}/meter/1/conso\")\n",
    "r.json()"
   ]
  },
  {
   "cell_type": "markdown",
   "id": "89c4c8ac29e71f1e",
   "metadata": {},
   "source": [
    "## Pour aller plus loin\n",
    "\n",
    "### Programmation GPU\n",
    "\n",
    "### Mojo"
   ]
  }
 ],
 "metadata": {
  "kernelspec": {
   "display_name": "Python 3 (ipykernel)",
   "language": "python",
   "name": "python3"
  },
  "language_info": {
   "codemirror_mode": {
    "name": "ipython",
    "version": 3
   },
   "file_extension": ".py",
   "mimetype": "text/x-python",
   "name": "python",
   "nbconvert_exporter": "python",
   "pygments_lexer": "ipython3",
   "version": "3.9.21"
  }
 },
 "nbformat": 4,
 "nbformat_minor": 5
}
